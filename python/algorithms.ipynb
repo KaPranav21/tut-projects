{
 "cells": [
  {
   "cell_type": "code",
   "execution_count": 74,
   "id": "dfb4d719",
   "metadata": {},
   "outputs": [],
   "source": [
    "import random"
   ]
  },
  {
   "cell_type": "markdown",
   "id": "e0e5040b",
   "metadata": {},
   "source": [
    "# Recursion I\n"
   ]
  },
  {
   "cell_type": "code",
   "execution_count": 75,
   "id": "db198539",
   "metadata": {},
   "outputs": [],
   "source": [
    "def factorial(n):\n",
    "    if n == 0:\n",
    "        return 1\n",
    "    return n * factorial(n - 1)\n",
    "\n",
    "def fib(n):\n",
    "    if n <= 1:\n",
    "        return n\n",
    "    return fib(n - 2) + fib(n - 1)\n",
    "\n",
    "def sumArray(nums):\n",
    "    if len(nums) == 0:\n",
    "        return 0\n",
    "    return nums[0] + sumArray(nums[1:])\n",
    "\n",
    "def optSumArray(nums, i):\n",
    "    if len(nums) == i:\n",
    "        return 0\n",
    "    return nums[i] + optSumArray(nums, i + 1)\n"
   ]
  },
  {
   "cell_type": "code",
   "execution_count": 76,
   "id": "064fcc6b",
   "metadata": {},
   "outputs": [
    {
     "name": "stdout",
     "output_type": "stream",
     "text": [
      "0 : 1\n",
      "1 : 1\n",
      "2 : 2\n",
      "3 : 6\n",
      "4 : 24\n",
      "5 : 120\n",
      "6 : 720\n",
      "7 : 5040\n",
      "8 : 40320\n",
      "9 : 362880\n",
      "10 : 3628800\n",
      "\n",
      "\n",
      "0 : 0\n",
      "1 : 1\n",
      "2 : 1\n",
      "3 : 2\n",
      "4 : 3\n",
      "5 : 5\n",
      "6 : 8\n",
      "7 : 13\n",
      "8 : 21\n",
      "9 : 34\n",
      "10 : 55\n",
      "\n",
      "\n",
      "bad: 276\n",
      "good: 276\n"
     ]
    }
   ],
   "source": [
    "for i in range(0,11):\n",
    "    print(f'{i} : {factorial(i)}')\n",
    "\n",
    "print('\\n')\n",
    "\n",
    "for i in range(0,11):\n",
    "    print(f'{i} : {fib(i)}')\n",
    "\n",
    "print('\\n')\n",
    "\n",
    "lst = [0, 15, 2, 249, 10, 0]\n",
    "print(f'bad: {sumArray(lst)}')\n",
    "print(f'good: {optSumArray(lst, 0)}')"
   ]
  },
  {
   "cell_type": "markdown",
   "id": "571119ef",
   "metadata": {},
   "source": [
    "## Binary Search\n",
    "\n",
    "*ONLY WORKS ON SORTED ARRAY*\n",
    "\n",
    "- start by checking if target is in the middle\n",
    "- check left or right and reassign new middle to middle of respective partition\n",
    "- keep doing this until you reach the correct middle "
   ]
  },
  {
   "cell_type": "code",
   "execution_count": 77,
   "id": "9a51619a",
   "metadata": {},
   "outputs": [],
   "source": [
    "def binarySearch(arr, target):\n",
    "    l = 0\n",
    "    r = 0\n",
    "    while r > l:\n",
    "        m = l + (r - l) // 2\n",
    "        if target == arr[m]:\n",
    "            return True\n",
    "        elif target > arr[m]:\n",
    "            l = m + 1\n",
    "        else:\n",
    "            r = m - 1\n",
    "    return False\n"
   ]
  },
  {
   "cell_type": "code",
   "execution_count": null,
   "id": "70581f68",
   "metadata": {},
   "outputs": [
    {
     "name": "stdout",
     "output_type": "stream",
     "text": [
      "[2, 2, 2, 2, 3, 3, 3, 5, 9, 10] 2\n"
     ]
    }
   ],
   "source": [
    "arr = sorted([random.sample(range(lower_bound, upper_bound + 1), size) for _ in range(0, 10)])\n",
    "t = arr[random.randint(0, len(arr) - 1)]\n",
    "\n",
    "print(arr, t)"
   ]
  }
 ],
 "metadata": {
  "kernelspec": {
   "display_name": "Python 3",
   "language": "python",
   "name": "python3"
  },
  "language_info": {
   "codemirror_mode": {
    "name": "ipython",
    "version": 3
   },
   "file_extension": ".py",
   "mimetype": "text/x-python",
   "name": "python",
   "nbconvert_exporter": "python",
   "pygments_lexer": "ipython3",
   "version": "3.13.5"
  }
 },
 "nbformat": 4,
 "nbformat_minor": 5
}
