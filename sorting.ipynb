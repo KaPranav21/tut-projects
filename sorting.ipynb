{
 "cells": [
  {
   "cell_type": "markdown",
   "id": "f029e268",
   "metadata": {},
   "source": [
    "\n",
    "https://sortvisualizer.com/"
   ]
  },
  {
   "cell_type": "code",
   "execution_count": 223,
   "id": "5226fc77",
   "metadata": {},
   "outputs": [],
   "source": [
    "import random"
   ]
  },
  {
   "cell_type": "markdown",
   "id": "b43cf1d6",
   "metadata": {},
   "source": [
    "### Swap"
   ]
  },
  {
   "cell_type": "code",
   "execution_count": 224,
   "id": "a796af40",
   "metadata": {},
   "outputs": [
    {
     "name": "stdout",
     "output_type": "stream",
     "text": [
      "3 | 8\n",
      "8 <--> 3\n",
      "3 <--> 8\n"
     ]
    }
   ],
   "source": [
    "a = random.randint(0, 10)\n",
    "b = random.randint(0, 10)\n",
    "\n",
    "print(f'{a} | {b}')\n",
    "# Temp-Swap\n",
    "tmp = a\n",
    "a = b\n",
    "b = tmp\n",
    "print(f'{a} <--> {b}')\n",
    "\n",
    "\n",
    "# Tuple-Swap (pythonic)\n",
    "a, b = b, a\n",
    "print(f'{a} <--> {b}')"
   ]
  },
  {
   "cell_type": "markdown",
   "id": "4d782699",
   "metadata": {},
   "source": [
    "## Bubble Sort \n",
    "\"Bubble the largest element towards the end\"\n",
    "\n",
    "- Start from the beginning of the list.\n",
    "- check if adjacent elements are out of order and swap them; reduce by one and 'i' each time for each pass."
   ]
  },
  {
   "cell_type": "code",
   "execution_count": 225,
   "id": "41481a4c",
   "metadata": {},
   "outputs": [],
   "source": [
    "def bubbleSort(arr):\n",
    "    for i in range(len(arr)):\n",
    "        for j in range(len(arr) - 1 - i):\n",
    "            if arr[j] > arr[j + 1]:\n",
    "                arr[j], arr[j+1] = arr[j+1], arr[j]\n",
    "\n",
    "    return arr\n"
   ]
  },
  {
   "cell_type": "code",
   "execution_count": 226,
   "id": "5de57b22",
   "metadata": {},
   "outputs": [
    {
     "name": "stdout",
     "output_type": "stream",
     "text": [
      "\n",
      "      before : [0, 3, 0, 5, 9, 3, 4, 10]\n",
      "      after : [0, 0, 3, 3, 4, 5, 9, 10]\n",
      "      \n"
     ]
    }
   ],
   "source": [
    "arr = []\n",
    "for i in range(0,8):\n",
    "    arr.append(random.randint(0,10))\n",
    "\n",
    "print(f'''\n",
    "      before : {arr}\n",
    "      after : {bubbleSort(arr)}\n",
    "      ''')"
   ]
  },
  {
   "cell_type": "markdown",
   "id": "93a2ba09",
   "metadata": {},
   "source": [
    "## Insertion Sort\n",
    "\"Insert element into presorted list\"\n",
    "\n",
    "- start from i + 1 index and loop through the entire list\n",
    "- keep swapping from the end to beginning of the list if the element is out of order until the first index"
   ]
  },
  {
   "cell_type": "code",
   "execution_count": 227,
   "id": "7e0e6d25",
   "metadata": {},
   "outputs": [],
   "source": [
    "def nkInsertionSort(arr):\n",
    "    for i in range(1, len(arr)):\n",
    "        j = i\n",
    "        while j > 0 and arr[j - 1] > arr[j]:\n",
    "            # temp = arr[j]\n",
    "            # arr[j] = arr[j + 1]\n",
    "            # arr[j + 1] = temp\n",
    "\n",
    "            arr[j], arr[j - 1] = arr[j - 1], arr[j]\n",
    "            j -= 1\n",
    "        print(arr)\n",
    "    return arr \n",
    "\n",
    "def insertionSort(arr):\n",
    "    for i in range(1, len(arr)):\n",
    "        key = arr[i]\n",
    "        j = i - 1\n",
    "        while j >= 0 and key < arr[j]:\n",
    "            arr[j + 1] = arr[j]\n",
    "            j -= 1\n",
    "        arr[j + 1] = key\n",
    "        print(arr)\n",
    "    return arr"
   ]
  },
  {
   "cell_type": "code",
   "execution_count": 228,
   "id": "e01b22fc",
   "metadata": {},
   "outputs": [
    {
     "name": "stdout",
     "output_type": "stream",
     "text": [
      "[4, 7, 5, 1, 2, 6, 8, 2]\n",
      "[4, 5, 7, 1, 2, 6, 8, 2]\n",
      "[1, 4, 5, 7, 2, 6, 8, 2]\n",
      "[1, 2, 4, 5, 7, 6, 8, 2]\n",
      "[1, 2, 4, 5, 6, 7, 8, 2]\n",
      "[1, 2, 4, 5, 6, 7, 8, 2]\n",
      "[1, 2, 2, 4, 5, 6, 7, 8]\n",
      "\n",
      "      before : [7, 4, 5, 1, 2, 6, 8, 2]\n",
      "      after : [1, 2, 2, 4, 5, 6, 7, 8]\n",
      "      \n",
      "[14, 19, 20, 12, 16, 16, 18, 15]\n",
      "[14, 19, 20, 12, 16, 16, 18, 15]\n",
      "[12, 14, 19, 20, 16, 16, 18, 15]\n",
      "[12, 14, 16, 19, 20, 16, 18, 15]\n",
      "[12, 14, 16, 16, 19, 20, 18, 15]\n",
      "[12, 14, 16, 16, 18, 19, 20, 15]\n",
      "[12, 14, 15, 16, 16, 18, 19, 20]\n",
      "\n",
      "      before : [19, 14, 20, 12, 16, 16, 18, 15]\n",
      "      after : [12, 14, 15, 16, 16, 18, 19, 20]\n",
      "      \n"
     ]
    }
   ],
   "source": [
    "arr = []\n",
    "for i in range(0,8):\n",
    "    arr.append(random.randint(0,10))\n",
    "\n",
    "print(f'''\n",
    "      before : {arr}\n",
    "      after : {nkInsertionSort(arr)}\n",
    "      ''')\n",
    "\n",
    "for i in range(len(arr)):\n",
    "    arr[i] = random.randint(11,20) \n",
    "\n",
    "print(f'''\n",
    "      before : {arr}\n",
    "      after : {insertionSort(arr)}\n",
    "      ''')"
   ]
  },
  {
   "cell_type": "markdown",
   "id": "d683cb7d",
   "metadata": {},
   "source": [
    "## Selection Sort\n",
    "\"keep track of the minimum index\"\n",
    "\n",
    "- loop from the begininng of the list and assign a minimum index to the current index\n",
    "- loop from the i + 1 index to the end of the array and change the index if the number is out of order \n",
    "- swap the current and min index elements before looping again; will either swap the same or swap correct index"
   ]
  },
  {
   "cell_type": "code",
   "execution_count": 229,
   "id": "7918b2f7",
   "metadata": {},
   "outputs": [],
   "source": [
    "def selectionSort(arr):\n",
    "    for i in range(len(arr)):\n",
    "        curr_min = i\n",
    "        for j in range(i + 1, len(arr)):\n",
    "            if arr[curr_min] > arr[j]:\n",
    "                curr_min = j\n",
    "        arr[curr_min], arr[i] = arr[i], arr[curr_min]\n",
    "    return arr"
   ]
  },
  {
   "cell_type": "code",
   "execution_count": 230,
   "id": "8119a7d4",
   "metadata": {},
   "outputs": [
    {
     "name": "stdout",
     "output_type": "stream",
     "text": [
      "\n",
      "      before : [1, 15, 6, 7, 14, 12, 16, 1]\n",
      "      after : [1, 1, 6, 7, 12, 14, 15, 16]\n",
      "      \n"
     ]
    }
   ],
   "source": [
    "for i in range(len(arr)):\n",
    "    arr[i] = random.randint(0,20) \n",
    "\n",
    "print(f'''\n",
    "      before : {arr}\n",
    "      after : {selectionSort(arr)}\n",
    "      ''')"
   ]
  },
  {
   "cell_type": "markdown",
   "id": "d196cc26",
   "metadata": {},
   "source": [
    "## Bucket Sort\n",
    "\"Group into ordered buckets and place back into list\"\n",
    "\n",
    "- create an array of nested lists\n",
    "- loop from beginning of list and add into respective bucket\n",
    "- go through each bucket and its sublists and replace the elements in the original list"
   ]
  },
  {
   "cell_type": "code",
   "execution_count": 231,
   "id": "f966dbf9",
   "metadata": {},
   "outputs": [],
   "source": [
    "def bucketSort(arr):\n",
    "    buckets = [[] for _ in range(len(arr))]\n",
    "\n",
    "    for i in arr:\n",
    "        buckets[i].append(i)\n",
    "    \n",
    "    i = 0\n",
    "    for b in buckets:\n",
    "        for j in b:\n",
    "            arr[i] = j\n",
    "            i+=1\n",
    "    return arr"
   ]
  },
  {
   "cell_type": "code",
   "execution_count": 232,
   "id": "28146a9d",
   "metadata": {},
   "outputs": [
    {
     "name": "stdout",
     "output_type": "stream",
     "text": [
      "\n",
      "      before : [5, 2, 4, 2, 5, 3, 1, 5]\n",
      "      after : [1, 2, 2, 3, 4, 5, 5, 5]\n",
      "      \n"
     ]
    }
   ],
   "source": [
    "arr = []\n",
    "for i in range(0,8):\n",
    "    arr.append(random.randint(0,5))\n",
    "\n",
    "print(f'''\n",
    "      before : {arr}\n",
    "      after : {bucketSort(arr)}\n",
    "      ''')"
   ]
  }
 ],
 "metadata": {
  "kernelspec": {
   "display_name": "Python 3",
   "language": "python",
   "name": "python3"
  },
  "language_info": {
   "codemirror_mode": {
    "name": "ipython",
    "version": 3
   },
   "file_extension": ".py",
   "mimetype": "text/x-python",
   "name": "python",
   "nbconvert_exporter": "python",
   "pygments_lexer": "ipython3",
   "version": "3.13.5"
  }
 },
 "nbformat": 4,
 "nbformat_minor": 5
}
